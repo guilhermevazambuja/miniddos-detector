{
 "cells": [
  {
   "cell_type": "code",
   "id": "initial_id",
   "metadata": {
    "collapsed": true
   },
   "source": [
    "import pandas as pd\n",
    "import seaborn as sns\n",
    "import numpy as np\n",
    "import matplotlib.pyplot as plt\n",
    "\n",
    "from src.paths import ProjectPaths\n",
    "from sklearn.ensemble import RandomForestClassifier\n",
    "from sklearn.metrics import accuracy_score, precision_score, recall_score, f1_score"
   ],
   "outputs": [],
   "execution_count": null
  },
  {
   "metadata": {},
   "cell_type": "markdown",
   "source": "# CONFIGURATION",
   "id": "ddd6c28309737a03"
  },
  {
   "metadata": {},
   "cell_type": "code",
   "source": [
    "LOGGING_ENABLED = True\n",
    "\n",
    "\n",
    "def log(message):\n",
    "    if LOGGING_ENABLED:\n",
    "        print(f\"[LOG] {message}\")"
   ],
   "id": "5a491b0fed59356",
   "outputs": [],
   "execution_count": null
  },
  {
   "metadata": {},
   "cell_type": "markdown",
   "source": "# STEP 1: Load and Prepare Raw Data",
   "id": "96fd2ee4d46fe22"
  },
  {
   "metadata": {},
   "cell_type": "code",
   "source": [
    "df_path = ProjectPaths.DATA_ML_CSV_FOLDER / \"Friday-WorkingHours-Afternoon-DDos.pcap_ISCX.csv\"\n",
    "df_title = df_path.stem.split(\".pcap\")[0].replace(\"-\", \" \").strip()\n",
    "\n",
    "df = pd.read_csv(df_path)\n",
    "df.columns = df.columns.str.strip()\n",
    "df['Label'] = df['Label'].str.strip()\n",
    "df = df[df['Label'].isin(['BENIGN', 'DDoS'])]\n",
    "\n",
    "log(f\"Loaded dataset with {len(df)} entries.\")\n",
    "log(f\"Label distribution:\\n{df['Label'].value_counts()}\")"
   ],
   "id": "1a223c36324bd014",
   "outputs": [],
   "execution_count": null
  },
  {
   "metadata": {},
   "cell_type": "markdown",
   "source": "# STEP 2: Visualize Label Distribution",
   "id": "7ada9c0e8a2d4288"
  },
  {
   "metadata": {},
   "cell_type": "code",
   "source": [
    "label_counts = df['Label'].value_counts()\n",
    "palette = sns.color_palette(\"Set2\", n_colors=len(label_counts))\n",
    "color_map = {label: palette[i] for i, label in enumerate(label_counts.index)}\n",
    "colors = [color_map[label] for label in label_counts.index]\n",
    "\n",
    "plt.figure(figsize=(6, 6))\n",
    "plt.pie(\n",
    "    label_counts.values.astype(int),\n",
    "    labels=label_counts.index,\n",
    "    colors=colors,\n",
    "    autopct=lambda pct: f'{int(round(pct))}%',\n",
    "    startangle=140\n",
    ")\n",
    "plt.title(f'{df_title}\\nTraffic Label Distribution\\n({len(df)} entries)')\n",
    "plt.axis('equal')\n",
    "plt.tight_layout()\n",
    "plt.show()"
   ],
   "id": "a5ababa4f1d49f7d",
   "outputs": [],
   "execution_count": null
  },
  {
   "metadata": {},
   "cell_type": "markdown",
   "source": "# STEP 3: Clean Numeric Features",
   "id": "4e3be0527e1278fd"
  },
  {
   "metadata": {},
   "cell_type": "code",
   "source": [
    "numeric_cols = df.select_dtypes(include='number').columns\n",
    "df_numeric = df[numeric_cols].copy()\n",
    "df_non_numeric = df.drop(columns=numeric_cols)\n",
    "\n",
    "inf_mask = df_numeric.isin([np.inf, -np.inf])\n",
    "if inf_mask.any().any():\n",
    "    inf_cols = list(df_numeric.columns[inf_mask.any()])\n",
    "    log(f\"Replacing infinities in columns: {inf_cols}\")\n",
    "    df_numeric = df_numeric.replace([np.inf, -np.inf], np.nan)\n",
    "\n",
    "nan_cols = df_numeric.columns[df_numeric.isna().any()]\n",
    "if len(nan_cols) > 0:\n",
    "    log(f\"Imputing NaNs with column means in: {list(nan_cols)}\")\n",
    "    df_numeric[nan_cols] = df_numeric[nan_cols].fillna(df_numeric[nan_cols].mean())\n",
    "\n",
    "if 'Flow Bytes/s' in df_numeric.columns:\n",
    "    clip_threshold = df_numeric['Flow Bytes/s'].quantile(0.999)\n",
    "    df_numeric['Flow Bytes/s'] = df_numeric['Flow Bytes/s'].clip(upper=clip_threshold)\n",
    "    log(f\"Clipped 'Flow Bytes/s' at 99.9th percentile: {clip_threshold:.2f}\")\n",
    "\n",
    "df_cleaned = pd.concat([df_numeric, df_non_numeric], axis=1)\n",
    "log(\"Completed simplified numeric cleaning.\")"
   ],
   "id": "bbd036495e929238",
   "outputs": [],
   "execution_count": null
  },
  {
   "metadata": {},
   "cell_type": "markdown",
   "source": "# STEP 4: Sample Training and Testing Sets",
   "id": "11f5d03f56bfeee8"
  },
  {
   "metadata": {},
   "cell_type": "code",
   "source": [
    "train_size = 10_000\n",
    "test_size = 20_000\n",
    "\n",
    "train_benign_ratio = 0.8\n",
    "train_ddos_ratio = 1 - train_benign_ratio\n",
    "\n",
    "test_benign_ratio = 0.57\n",
    "test_ddos_ratio = 1 - test_benign_ratio\n",
    "\n",
    "train_benign_size = round(train_size * train_benign_ratio)\n",
    "train_ddos_size = round(train_size * train_ddos_ratio)\n",
    "\n",
    "test_benign_size = round(test_size * test_benign_ratio)\n",
    "test_ddos_size = round(test_size * test_ddos_ratio)\n",
    "\n",
    "df_benign = df_cleaned[df_cleaned['Label'] == 'BENIGN']\n",
    "df_ddos = df_cleaned[df_cleaned['Label'] == 'DDoS']\n",
    "\n",
    "train_benign = df_benign.sample(n=train_benign_size)\n",
    "train_ddos = df_ddos.sample(n=train_ddos_size)\n",
    "df_train = pd.concat([train_benign, train_ddos])\n",
    "\n",
    "df_remaining = df_cleaned.drop(df_train.index)\n",
    "\n",
    "test_benign = df_remaining[df_remaining['Label'] == 'BENIGN'].sample(n=test_benign_size)\n",
    "test_ddos = df_remaining[df_remaining['Label'] == 'DDoS'].sample(n=test_ddos_size)\n",
    "df_test = pd.concat([test_benign, test_ddos])\n",
    "\n",
    "df_train = df_train.reset_index(drop=True)\n",
    "df_test = df_test.reset_index(drop=True)\n",
    "\n",
    "log(f\"Training set: {df_train.shape}, Testing set: {df_test.shape}\")"
   ],
   "id": "3d1afe9133ad0f9c",
   "outputs": [],
   "execution_count": null
  },
  {
   "metadata": {},
   "cell_type": "code",
   "source": "df_train",
   "id": "2d00d6992ea61d23",
   "outputs": [],
   "execution_count": null
  },
  {
   "metadata": {},
   "cell_type": "code",
   "source": "df_test",
   "id": "c13240dd1ac6cc5b",
   "outputs": [],
   "execution_count": null
  },
  {
   "metadata": {},
   "cell_type": "markdown",
   "source": "# STEP 5: Apply SVD to Training Set",
   "id": "53e02d81c9022ca6"
  },
  {
   "metadata": {},
   "cell_type": "code",
   "source": [
    "X_train = df_train.select_dtypes(include='number')\n",
    "U, S, VT = np.linalg.svd(X_train, full_matrices=False)\n",
    "\n",
    "svd_train = U[:, :2] * S[:2]\n",
    "components = VT[:2, :]\n",
    "\n",
    "components_df = pd.DataFrame(components, columns=X_train.columns, index=['SVD1', 'SVD2'])\n",
    "\n",
    "train_svd_df = pd.DataFrame(svd_train, columns=['SVD1', 'SVD2'])\n",
    "train_svd_df['Label'] = df_train['Label']"
   ],
   "id": "3563a3d3966c5990",
   "outputs": [],
   "execution_count": null
  },
  {
   "metadata": {},
   "cell_type": "markdown",
   "source": "# STEP 6: Project Test Set onto Superfeatures",
   "id": "ed44d3cb3a8eb83"
  },
  {
   "metadata": {},
   "cell_type": "code",
   "source": [
    "X_test = df_test.select_dtypes(include='number')\n",
    "svd_test = X_test @ components.T\n",
    "\n",
    "svd_test.columns = ['SVD1', 'SVD2']\n",
    "svd_test['Label'] = df_test['Label']\n",
    "\n",
    "test_svd_df = svd_test"
   ],
   "id": "438f3593274c5e17",
   "outputs": [],
   "execution_count": null
  },
  {
   "metadata": {},
   "cell_type": "markdown",
   "source": "# STEP 7: Visualize SVD Projection",
   "id": "20d7b76b3bc7dd24"
  },
  {
   "metadata": {},
   "cell_type": "code",
   "source": [
    "ddos_mean_y = train_svd_df[train_svd_df['Label'] == 'DDoS']['SVD2'].mean()\n",
    "global_mean_x = train_svd_df['SVD1'].mean()\n",
    "global_mean_y = train_svd_df['SVD2'].mean()\n",
    "\n",
    "flip_y = ddos_mean_y > global_mean_y  # flip if DDoS is above average\n",
    "flip_x = global_mean_x < 0  # flip if overall mean is negative\n",
    "\n",
    "# Create a visualization-specific copy\n",
    "train_svd_df_plot = train_svd_df.copy()\n",
    "if flip_y:\n",
    "    train_svd_df_plot['SVD2'] *= -1\n",
    "if flip_x:\n",
    "    train_svd_df_plot['SVD1'] *= -1\n",
    "\n",
    "# Plot using the flipped version\n",
    "plt.figure(figsize=(10, 6))\n",
    "for label in train_svd_df_plot['Label'].unique():\n",
    "    subset = train_svd_df_plot[train_svd_df_plot['Label'] == label]\n",
    "    plt.scatter(subset['SVD1'], subset['SVD2'], label=label, alpha=0.25, s=8)\n",
    "\n",
    "plt.title('SVD Projection: Behavioral Clustering')\n",
    "plt.xticks([])\n",
    "plt.yticks([])\n",
    "plt.xlabel('')\n",
    "plt.ylabel('')\n",
    "plt.legend(frameon=False)\n",
    "plt.box(False)\n",
    "plt.grid(False)\n",
    "plt.tight_layout()\n",
    "plt.show()"
   ],
   "id": "d25b52c6acadc8eb",
   "outputs": [],
   "execution_count": null
  },
  {
   "metadata": {},
   "cell_type": "markdown",
   "source": "# STEP 8: Train and Evaluate Classifier",
   "id": "464e8b11136bb20c"
  },
  {
   "metadata": {},
   "cell_type": "code",
   "source": [
    "X_train_svd = train_svd_df[['SVD1', 'SVD2']]\n",
    "y_train_svd = train_svd_df['Label']\n",
    "\n",
    "X_test_svd = test_svd_df[['SVD1', 'SVD2']]\n",
    "y_test_svd = test_svd_df['Label']\n",
    "\n",
    "clf = RandomForestClassifier(random_state=42)\n",
    "clf.fit(X_train_svd, y_train_svd)\n",
    "y_pred = clf.predict(X_test_svd)\n",
    "\n",
    "results_df = pd.DataFrame({\n",
    "    'Metric': ['Accuracy', 'Precision', 'Recall', 'F1-Score'],\n",
    "    'Value': [\n",
    "        accuracy_score(y_test_svd, y_pred),\n",
    "        precision_score(y_test_svd, y_pred, pos_label='DDoS'),\n",
    "        recall_score(y_test_svd, y_pred, pos_label='DDoS'),\n",
    "        f1_score(y_test_svd, y_pred, pos_label='DDoS')\n",
    "    ]\n",
    "})\n",
    "\n",
    "log(\"Model evaluation complete.\")\n",
    "log(f\"\\n{results_df.round(4)}\")"
   ],
   "id": "e00ab72637496557",
   "outputs": [],
   "execution_count": null
  }
 ],
 "metadata": {
  "kernelspec": {
   "display_name": "Python 3",
   "language": "python",
   "name": "python3"
  },
  "language_info": {
   "codemirror_mode": {
    "name": "ipython",
    "version": 2
   },
   "file_extension": ".py",
   "mimetype": "text/x-python",
   "name": "python",
   "nbconvert_exporter": "python",
   "pygments_lexer": "ipython2",
   "version": "2.7.6"
  }
 },
 "nbformat": 4,
 "nbformat_minor": 5
}
